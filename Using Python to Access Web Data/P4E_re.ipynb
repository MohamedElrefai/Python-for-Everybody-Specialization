{
 "cells": [
  {
   "cell_type": "code",
   "execution_count": 1,
   "metadata": {},
   "outputs": [
    {
     "name": "stdout",
     "output_type": "stream",
     "text": [
      "345015\n"
     ]
    }
   ],
   "source": [
    "import re\n",
    "fhand=open('regex_sum_33112.txt')\n",
    "y=[]\n",
    "sum=0\n",
    "for line in fhand:\n",
    "    line=line.rstrip()\n",
    "    x=re.findall('([0-9]+)',line)\n",
    "    if len(x)>0:\n",
    "        for item in x: #to make the shape of y to be list of strings only not a list of lists of strings\n",
    "            y.append(item)\n",
    "            \n",
    "for num in y:\n",
    "    sum+=int(num)\n",
    "print(sum)"
   ]
  },
  {
   "cell_type": "code",
   "execution_count": null,
   "metadata": {
    "collapsed": true
   },
   "outputs": [],
   "source": []
  }
 ],
 "metadata": {
  "kernelspec": {
   "display_name": "Python 3",
   "language": "python",
   "name": "python3"
  },
  "language_info": {
   "codemirror_mode": {
    "name": "ipython",
    "version": 3
   },
   "file_extension": ".py",
   "mimetype": "text/x-python",
   "name": "python",
   "nbconvert_exporter": "python",
   "pygments_lexer": "ipython3",
   "version": "3.6.3"
  }
 },
 "nbformat": 4,
 "nbformat_minor": 2
}
