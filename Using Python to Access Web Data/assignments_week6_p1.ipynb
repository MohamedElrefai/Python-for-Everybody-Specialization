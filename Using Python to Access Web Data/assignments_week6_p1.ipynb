{
 "cells": [
  {
   "cell_type": "code",
   "execution_count": 1,
   "metadata": {},
   "outputs": [
    {
     "name": "stdout",
     "output_type": "stream",
     "text": [
      "User count: 2\n",
      "Name Chuck\n",
      "Id 001\n",
      "Attribute 2\n",
      "Name Chuck\n",
      "Id 009\n",
      "Attribute 7\n"
     ]
    }
   ],
   "source": [
    "import json\n",
    "\n",
    "data = '''\n",
    "[\n",
    "  { \"id\" : \"001\",\n",
    "    \"x\" : \"2\",\n",
    "    \"name\" : \"Chuck\"\n",
    "  } ,\n",
    "  { \"id\" : \"009\",\n",
    "    \"x\" : \"7\",\n",
    "    \"name\" : \"Chuck\"\n",
    "  }\n",
    "]'''\n",
    "\n",
    "info = json.loads(data)\n",
    "print('User count:', len(info))\n",
    "\n",
    "for item in info:\n",
    "    print('Name', item['name'])\n",
    "    print('Id', item['id'])\n",
    "    print('Attribute', item['x'])"
   ]
  },
  {
   "cell_type": "code",
   "execution_count": 1,
   "metadata": {
    "collapsed": true
   },
   "outputs": [],
   "source": [
    "import urllib \n",
    "import json\n",
    "url='http://py4e-data.dr-chuck.net/comments_33117.json'\n",
    "details=urllib.request.urlopen(url).read()\n",
    "data=details.decode()\n",
    "mycode=json.loads(data)\n",
    "summing=0\n",
    "for item in mycode['comments']:\n",
    "    summing+=item['count']"
   ]
  },
  {
   "cell_type": "code",
   "execution_count": 2,
   "metadata": {},
   "outputs": [
    {
     "data": {
      "text/plain": [
       "2302"
      ]
     },
     "execution_count": 2,
     "metadata": {},
     "output_type": "execute_result"
    }
   ],
   "source": [
    "summing"
   ]
  },
  {
   "cell_type": "code",
   "execution_count": 9,
   "metadata": {},
   "outputs": [
    {
     "name": "stdout",
     "output_type": "stream",
     "text": [
      "2302\n"
     ]
    }
   ],
   "source": [
    "import urllib\n",
    "import xml.etree.ElementTree as ET\n",
    "url='http://py4e-data.dr-chuck.net/comments_33116.xml'\n",
    "uh = urllib.request.urlopen(url)\n",
    "data = uh.read()\n",
    "data=data.decode()\n",
    "tree = ET.fromstring(data[:])\n",
    "summing=0\n",
    "for item in tree.findall('comments/comment/count'):\n",
    "    summing+=int(item.text)\n",
    "print(summing)"
   ]
  },
  {
   "cell_type": "code",
   "execution_count": 1,
   "metadata": {},
   "outputs": [
    {
     "name": "stdout",
     "output_type": "stream",
     "text": [
      "Enter LocationRamapo College of New Jersey\n",
      "Retrieving http://py4e-data.dr-chuck.net/geojson?address=Ramapo+College+of+New+Jersey\n",
      "Retrieved 2254 chars\n",
      "place_id ChIJK3usc33nwokREg_n-seSDbU\n",
      "Enter Location\n"
     ]
    }
   ],
   "source": [
    "import urllib\n",
    "import json\n",
    "serviceurl='http://py4e-data.dr-chuck.net/geojson?'\n",
    "while True:\n",
    "    add=input('Enter Location')\n",
    "    if len(add)<1:break\n",
    "    url=serviceurl+ urllib.parse.urlencode({'address': add})\n",
    "    print('Retrieving',url)\n",
    "    uh=urllib.request.urlopen(url)\n",
    "    data=uh.read().decode() #reading data json\n",
    "    print('Retrieved',len(data),'chars')\n",
    "    try:\n",
    "        js=json.loads(data)\n",
    "    except:\n",
    "        js=None\n",
    "    if not js or 'status' not in js or js['status']!='OK':\n",
    "        print('===Failure To Retrieve===')\n",
    "        continue\n",
    "    print('place_id',js['results'][0]['place_id'])\n"
   ]
  },
  {
   "cell_type": "code",
   "execution_count": null,
   "metadata": {
    "collapsed": true
   },
   "outputs": [],
   "source": []
  },
  {
   "cell_type": "code",
   "execution_count": null,
   "metadata": {
    "collapsed": true
   },
   "outputs": [],
   "source": []
  },
  {
   "cell_type": "code",
   "execution_count": null,
   "metadata": {
    "collapsed": true
   },
   "outputs": [],
   "source": []
  },
  {
   "cell_type": "code",
   "execution_count": null,
   "metadata": {
    "collapsed": true
   },
   "outputs": [],
   "source": []
  }
 ],
 "metadata": {
  "kernelspec": {
   "display_name": "Python 3",
   "language": "python",
   "name": "python3"
  },
  "language_info": {
   "codemirror_mode": {
    "name": "ipython",
    "version": 3
   },
   "file_extension": ".py",
   "mimetype": "text/x-python",
   "name": "python",
   "nbconvert_exporter": "python",
   "pygments_lexer": "ipython3",
   "version": "3.6.3"
  }
 },
 "nbformat": 4,
 "nbformat_minor": 2
}
