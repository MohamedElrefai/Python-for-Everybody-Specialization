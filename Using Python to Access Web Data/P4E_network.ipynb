{
 "cells": [
  {
   "cell_type": "code",
   "execution_count": null,
   "metadata": {
    "collapsed": true
   },
   "outputs": [],
   "source": [
    "\n",
    "#submitting: assignment 1\n",
    "import urllib\n",
    "from bs4 import BeautifulSoup\n",
    "import ssl \n",
    "ctx = ssl.create_default_context()\n",
    "ctx.check_hostname = False\n",
    "ctx.verify_mode = ssl.CERT_NONE\n",
    "url=input('Enter-')\n",
    "html=urllib.request.urlopen(url,context=ctx).read()\n",
    "soup=BeautifulSoup(html,'html.parser')\n",
    "tags=soup('span')\n",
    "count=0\n",
    "for tag in tags:\n",
    "    count=count+int(tag.contents[0])\n",
    "print(count)\n"
   ]
  },
  {
   "cell_type": "code",
   "execution_count": null,
   "metadata": {
    "collapsed": true
   },
   "outputs": [],
   "source": [
    "#submitting: assignment 2\n",
    "import urllib\n",
    "from bs4 import BeautifulSoup\n",
    "import ssl \n",
    "ctx = ssl.create_default_context()\n",
    "ctx.check_hostname = False\n",
    "ctx.verify_mode = ssl.CERT_NONE\n",
    "url=input('Enter-')\n",
    "print(url)\n",
    "count=int(input('count-'))\n",
    "pos=int(input('pos'))\n",
    "for i in range(count) :\n",
    "    html=urllib.request.urlopen(url).read()\n",
    "    soup=BeautifulSoup(html,'html.parser') \n",
    "    tags=soup('a')\n",
    "    url = tags[pos-1].get('href', None)\n",
    "    print(url)\n",
    "         "
   ]
  },
  {
   "cell_type": "code",
   "execution_count": null,
   "metadata": {
    "collapsed": true
   },
   "outputs": [],
   "source": []
  }
 ],
 "metadata": {
  "kernelspec": {
   "display_name": "Python 3",
   "language": "python",
   "name": "python3"
  },
  "language_info": {
   "codemirror_mode": {
    "name": "ipython",
    "version": 3
   },
   "file_extension": ".py",
   "mimetype": "text/x-python",
   "name": "python",
   "nbconvert_exporter": "python",
   "pygments_lexer": "ipython3",
   "version": "3.6.3"
  }
 },
 "nbformat": 4,
 "nbformat_minor": 2
}
